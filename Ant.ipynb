{
 "cells": [
  {
   "cell_type": "code",
   "execution_count": 41,
   "metadata": {
    "collapsed": true
   },
   "outputs": [],
   "source": [
    "import numpy as np"
   ]
  },
  {
   "cell_type": "code",
   "execution_count": 42,
   "metadata": {
    "collapsed": true
   },
   "outputs": [],
   "source": [
    "#Инициализируем класс муравьев \n",
    "class Ant:\n",
    "    def __init__(self, start_vertex):\n",
    "        self.start_vertex = start_vertex\n",
    "        self.vertexs = [self.start_vertex]\n",
    "        self.L = 0\n",
    "#Описываем метод, по которому будут двикаться муравьи\n",
    "    def run(self, matrix, pheromons, alpha, beta):\n",
    "        current_vertex = self.start_vertex\n",
    "        for _ in range(matrix.shape[0] - 1):\n",
    "            list_p = []\n",
    "            list_vertex = []\n",
    "            for vertex in range(matrix.shape[0]):\n",
    "                if vertex in self.vertexs:\n",
    "                    continue\n",
    "                t = pheromons[current_vertex][vertex]\n",
    "                d = matrix[current_vertex][vertex]\n",
    "                p = (t ** alpha) * ((1 / d) ** beta)\n",
    "                list_p.append(p)\n",
    "                list_vertex.append(vertex)\n",
    "            list_p = np.array(list_p)\n",
    "            list_p = list_p / sum(list_p)\n",
    "            list_p = np.cumsum(list_p)\n",
    "            random_number = np.random.random()\n",
    "            for num, border in zip(list_vertex, list_p):\n",
    "                if random_number < border:\n",
    "                    next_vertex = num\n",
    "                    break\n",
    "            self.L += matrix[current_vertex][next_vertex]\n",
    "\n",
    "            current_vertex = next_vertex\n",
    "            self.vertexs.append(current_vertex)\n",
    "        self.L += matrix[self.vertexs[-1]][self.vertexs[0]]"
   ]
  },
  {
   "cell_type": "code",
   "execution_count": 43,
   "metadata": {
    "collapsed": true
   },
   "outputs": [],
   "source": [
    "#Инициализация класса таблицы расстояний\n",
    "class Graph:\n",
    "    def __init__(self, matrix, num_ants, alpha, beta, count_epoch, p):\n",
    "        self.alpha = alpha\n",
    "        self.beta = beta\n",
    "        self.matrix = matrix\n",
    "        self.pheromons = np.abs(np.random.normal(0, 0.001, matrix.shape))\n",
    "        self.num_vertix = matrix.shape[0]\n",
    "        self.num_ants = num_ants\n",
    "        self.count_epoch = count_epoch\n",
    "        self.p = p\n",
    "        self.best_L = 999999\n",
    "\n",
    "    def solve(self):\n",
    "        for _ in range(self.count_epoch):\n",
    "            self.ants = []\n",
    "            for i in range(self.num_ants):\n",
    "                random_start_vertix = np.random.randint(0, self.num_vertix)\n",
    "                self.ants.append(Ant(start_vertex=random_start_vertix))\n",
    "\n",
    "            for ant in self.ants:\n",
    "                ant.run(matrix=self.matrix, pheromons=self.pheromons, alpha=self.alpha, beta=self.beta)\n",
    "#Обновление ферамона \n",
    "            set_eager = set()\n",
    "            for ant in self.ants:\n",
    "                vertexs = ant.vertexs\n",
    "                for i in range(1, self.num_vertix):\n",
    "                    current_vertex, next_vertex = vertexs[i - 1], vertexs[i]\n",
    "                    first_eager = (current_vertex, next_vertex)\n",
    "                    second_eager = (next_vertex, current_vertex)\n",
    "                    if first_eager not in set_eager and second_eager not in set_eager:\n",
    "\n",
    "                        set_eager.add(first_eager)\n",
    "                        set_eager.add(second_eager)\n",
    "                        self.pheromons[next_vertex][current_vertex] *= (1 - self.p)\n",
    "                        self.pheromons[current_vertex][next_vertex] *= (1 - self.p)\n",
    "\n",
    "                    self.pheromons[next_vertex][current_vertex] += (1 / ant.L)\n",
    "                    self.pheromons[current_vertex][next_vertex] += (1 / ant.L)\n",
    "                if self.best_L > ant.L:\n",
    "                    self.best_L = ant.L\n",
    "        return self.best_L"
   ]
  },
  {
   "cell_type": "code",
   "execution_count": 44,
   "metadata": {},
   "outputs": [
    {
     "name": "stdout",
     "output_type": "stream",
     "text": [
      "0 2 30 9 1\n",
      "4 0 47 7 7\n",
      "31 33 0 33 36\n",
      "20 13 16 0 28\n",
      "9 36 22 22 0\n"
     ]
    }
   ],
   "source": [
    "#Получение входных данных\n",
    "a = input()\n",
    "arr = list(map(int, a.split()))\n",
    "matrix = arr\n",
    "data = []\n",
    "data.append(matrix)\n",
    "\n",
    "for i in range((len(matrix))-1):\n",
    "    a = input()\n",
    "    arr = list(map(int, a.split()))\n",
    "    data.append(arr)\n",
    "data = np.array(data)"
   ]
  },
  {
   "cell_type": "code",
   "execution_count": 45,
   "metadata": {
    "scrolled": true
   },
   "outputs": [
    {
     "name": "stdout",
     "output_type": "stream",
     "text": [
      "70\n"
     ]
    }
   ],
   "source": [
    "#Запуск алгоритма. Определение коэффициентов алгоритма\n",
    "graph = Graph(matrix=data, num_ants=20, alpha=1, beta=1, count_epoch=1500, p=0.5)\n",
    "print(graph.solve())"
   ]
  },
  {
   "cell_type": "code",
   "execution_count": null,
   "metadata": {
    "collapsed": true
   },
   "outputs": [],
   "source": []
  }
 ],
 "metadata": {
  "kernelspec": {
   "display_name": "Python 3",
   "language": "python",
   "name": "python3"
  },
  "language_info": {
   "codemirror_mode": {
    "name": "ipython",
    "version": 3
   },
   "file_extension": ".py",
   "mimetype": "text/x-python",
   "name": "python",
   "nbconvert_exporter": "python",
   "pygments_lexer": "ipython3",
   "version": "3.6.3"
  }
 },
 "nbformat": 4,
 "nbformat_minor": 2
}
